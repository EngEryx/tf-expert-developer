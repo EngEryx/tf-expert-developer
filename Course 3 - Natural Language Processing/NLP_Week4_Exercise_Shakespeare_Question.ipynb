{
  "nbformat": 4,
  "nbformat_minor": 0,
  "metadata": {
    "accelerator": "GPU",
    "colab": {
      "name": "NLP_Week4_Exercise_Shakespeare_Question.ipynb",
      "provenance": []
    },
    "kernelspec": {
      "display_name": "Python 3",
      "name": "python3"
    }
  },
  "cells": [
    {
      "cell_type": "code",
      "metadata": {
        "id": "zX4Kg8DUTKWO",
        "colab_type": "code",
        "colab": {}
      },
      "source": [
        "#@title Licensed under the Apache License, Version 2.0 (the \"License\");\n",
        "# you may not use this file except in compliance with the License.\n",
        "# You may obtain a copy of the License at\n",
        "#\n",
        "# https://www.apache.org/licenses/LICENSE-2.0\n",
        "#\n",
        "# Unless required by applicable law or agreed to in writing, software\n",
        "# distributed under the License is distributed on an \"AS IS\" BASIS,\n",
        "# WITHOUT WARRANTIES OR CONDITIONS OF ANY KIND, either express or implied.\n",
        "# See the License for the specific language governing permissions and\n",
        "# limitations under the License."
      ],
      "execution_count": 0,
      "outputs": []
    },
    {
      "cell_type": "code",
      "metadata": {
        "colab_type": "code",
        "id": "BOwsuGQQY9OL",
        "colab": {}
      },
      "source": [
        "from tensorflow.keras.preprocessing.sequence import pad_sequences\n",
        "from tensorflow.keras.layers import Embedding, LSTM, Dense, Dropout, Bidirectional\n",
        "from tensorflow.keras.preprocessing.text import Tokenizer\n",
        "from tensorflow.keras.models import Sequential\n",
        "from tensorflow.keras.optimizers import Adam\n",
        "### YOUR CODE HERE\n",
        "# Figure out how to import regularizers\n",
        "###\n",
        "from tensorflow.keras.regularizers import l1,l2\n",
        "import tensorflow.keras.utils as ku \n",
        "import numpy as np "
      ],
      "execution_count": 0,
      "outputs": []
    },
    {
      "cell_type": "code",
      "metadata": {
        "colab_type": "code",
        "id": "PRnDnCW-Z7qv",
        "colab": {
          "base_uri": "https://localhost:8080/",
          "height": 204
        },
        "outputId": "509a7066-7f48-4e90-db41-1c68e04d10e6"
      },
      "source": [
        "tokenizer = Tokenizer()\n",
        "!wget --no-check-certificate \\\n",
        "    https://storage.googleapis.com/laurencemoroney-blog.appspot.com/sonnets.txt \\\n",
        "    -O /tmp/sonnets.txt\n",
        "data = open('/tmp/sonnets.txt').read()\n",
        "\n",
        "corpus = data.lower().split(\"\\n\")\n",
        "\n",
        "\n",
        "tokenizer.fit_on_texts(corpus)\n",
        "total_words = len(tokenizer.word_index) + 1\n",
        "\n",
        "# create input sequences using list of tokens\n",
        "input_sequences = []\n",
        "for line in corpus:\n",
        "\ttoken_list = tokenizer.texts_to_sequences([line])[0]\n",
        "\tfor i in range(1, len(token_list)):\n",
        "\t\tn_gram_sequence = token_list[:i+1]\n",
        "\t\tinput_sequences.append(n_gram_sequence)\n",
        "\n",
        "\n",
        "# pad sequences \n",
        "max_sequence_len = max([len(x) for x in input_sequences])\n",
        "input_sequences = np.array(pad_sequences(input_sequences, maxlen=max_sequence_len, padding='pre'))\n",
        "\n",
        "# create predictors and label\n",
        "predictors, label = input_sequences[:,:-1],input_sequences[:,-1]\n",
        "\n",
        "label = ku.to_categorical(label, num_classes=total_words)"
      ],
      "execution_count": 3,
      "outputs": [
        {
          "output_type": "stream",
          "text": [
            "--2020-04-11 11:43:08--  https://storage.googleapis.com/laurencemoroney-blog.appspot.com/sonnets.txt\n",
            "Resolving storage.googleapis.com (storage.googleapis.com)... 74.125.203.128, 2404:6800:4008:c04::80\n",
            "Connecting to storage.googleapis.com (storage.googleapis.com)|74.125.203.128|:443... connected.\n",
            "HTTP request sent, awaiting response... 200 OK\n",
            "Length: 93578 (91K) [text/plain]\n",
            "Saving to: ‘/tmp/sonnets.txt’\n",
            "\n",
            "\r/tmp/sonnets.txt      0%[                    ]       0  --.-KB/s               \r/tmp/sonnets.txt    100%[===================>]  91.38K  --.-KB/s    in 0.001s  \n",
            "\n",
            "2020-04-11 11:43:09 (62.7 MB/s) - ‘/tmp/sonnets.txt’ saved [93578/93578]\n",
            "\n"
          ],
          "name": "stdout"
        }
      ]
    },
    {
      "cell_type": "code",
      "metadata": {
        "id": "aX6ZYsuJDnoR",
        "colab_type": "code",
        "colab": {
          "base_uri": "https://localhost:8080/",
          "height": 34
        },
        "outputId": "13f24a30-6817-4785-db6c-2a542b91b585"
      },
      "source": [
        "tokenizer.texts_to_sequences([corpus[0]])\n",
        "input_sequences.shape\n",
        "predictors[0].shape"
      ],
      "execution_count": 12,
      "outputs": [
        {
          "output_type": "execute_result",
          "data": {
            "text/plain": [
              "(10,)"
            ]
          },
          "metadata": {
            "tags": []
          },
          "execution_count": 12
        }
      ]
    },
    {
      "cell_type": "code",
      "metadata": {
        "colab_type": "code",
        "id": "w9vH8Y59ajYL",
        "colab": {
          "base_uri": "https://localhost:8080/",
          "height": 374
        },
        "outputId": "5d8312d6-77db-4c4e-d88c-57a2515f59e8"
      },
      "source": [
        "model = Sequential()\n",
        "model.add(Embedding(total_words, 100, input_length=max_sequence_len-1))\n",
        "model.add(Bidirectional(LSTM(150, return_sequences=True)))\n",
        "model.add(Dropout(0.2))\n",
        "model.add(LSTM(100))\n",
        "model.add(Dense(total_words/2, activation='relu', kernel_regularizer=l2(0.01)))\n",
        "model.add(Dense(total_words, activation='softmax'))\n",
        "# Pick an optimizer\n",
        "model.compile(optimizer='adam',loss='categorical_crossentropy', metrics=['accuracy'])\n",
        "print(model.summary())\n"
      ],
      "execution_count": 18,
      "outputs": [
        {
          "output_type": "stream",
          "text": [
            "Model: \"sequential_3\"\n",
            "_________________________________________________________________\n",
            "Layer (type)                 Output Shape              Param #   \n",
            "=================================================================\n",
            "embedding_3 (Embedding)      (None, 10, 100)           321100    \n",
            "_________________________________________________________________\n",
            "bidirectional_3 (Bidirection (None, 10, 300)           301200    \n",
            "_________________________________________________________________\n",
            "dropout_3 (Dropout)          (None, 10, 300)           0         \n",
            "_________________________________________________________________\n",
            "lstm_7 (LSTM)                (None, 100)               160400    \n",
            "_________________________________________________________________\n",
            "dense_4 (Dense)              (None, 1605)              162105    \n",
            "_________________________________________________________________\n",
            "dense_5 (Dense)              (None, 3211)              5156866   \n",
            "=================================================================\n",
            "Total params: 6,101,671\n",
            "Trainable params: 6,101,671\n",
            "Non-trainable params: 0\n",
            "_________________________________________________________________\n",
            "None\n"
          ],
          "name": "stdout"
        }
      ]
    },
    {
      "cell_type": "code",
      "metadata": {
        "colab_type": "code",
        "id": "AIg2f1HBxqof",
        "colab": {
          "base_uri": "https://localhost:8080/",
          "height": 1000
        },
        "outputId": "6bc48b48-acc3-41a1-e14e-f8f92631c0ce"
      },
      "source": [
        " history = model.fit(predictors, label, epochs=100, verbose=1)"
      ],
      "execution_count": 19,
      "outputs": [
        {
          "output_type": "stream",
          "text": [
            "Epoch 1/100\n",
            "484/484 [==============================] - 12s 26ms/step - loss: 6.9069 - accuracy: 0.0213\n",
            "Epoch 2/100\n",
            "484/484 [==============================] - 13s 26ms/step - loss: 6.4972 - accuracy: 0.0219\n",
            "Epoch 3/100\n",
            "484/484 [==============================] - 12s 26ms/step - loss: 6.3854 - accuracy: 0.0274\n",
            "Epoch 4/100\n",
            "484/484 [==============================] - 12s 26ms/step - loss: 6.2653 - accuracy: 0.0307\n",
            "Epoch 5/100\n",
            "484/484 [==============================] - 12s 26ms/step - loss: 6.1702 - accuracy: 0.0373\n",
            "Epoch 6/100\n",
            "484/484 [==============================] - 12s 26ms/step - loss: 6.0907 - accuracy: 0.0381\n",
            "Epoch 7/100\n",
            "484/484 [==============================] - 12s 26ms/step - loss: 6.0186 - accuracy: 0.0416\n",
            "Epoch 8/100\n",
            "484/484 [==============================] - 12s 25ms/step - loss: 5.9318 - accuracy: 0.0471\n",
            "Epoch 9/100\n",
            "484/484 [==============================] - 12s 26ms/step - loss: 5.8236 - accuracy: 0.0539\n",
            "Epoch 10/100\n",
            "484/484 [==============================] - 12s 25ms/step - loss: 5.7209 - accuracy: 0.0574\n",
            "Epoch 11/100\n",
            "484/484 [==============================] - 12s 25ms/step - loss: 5.6137 - accuracy: 0.0656\n",
            "Epoch 12/100\n",
            "484/484 [==============================] - 12s 26ms/step - loss: 5.5033 - accuracy: 0.0692\n",
            "Epoch 13/100\n",
            "484/484 [==============================] - 12s 26ms/step - loss: 5.3969 - accuracy: 0.0770\n",
            "Epoch 14/100\n",
            "484/484 [==============================] - 12s 25ms/step - loss: 5.2840 - accuracy: 0.0839\n",
            "Epoch 15/100\n",
            "484/484 [==============================] - 12s 25ms/step - loss: 5.1833 - accuracy: 0.0915\n",
            "Epoch 16/100\n",
            "484/484 [==============================] - 12s 25ms/step - loss: 5.0682 - accuracy: 0.0993\n",
            "Epoch 17/100\n",
            "484/484 [==============================] - 12s 25ms/step - loss: 4.9695 - accuracy: 0.1077\n",
            "Epoch 18/100\n",
            "484/484 [==============================] - 12s 25ms/step - loss: 4.8611 - accuracy: 0.1167\n",
            "Epoch 19/100\n",
            "484/484 [==============================] - 12s 25ms/step - loss: 4.7608 - accuracy: 0.1275\n",
            "Epoch 20/100\n",
            "484/484 [==============================] - 12s 26ms/step - loss: 4.6653 - accuracy: 0.1341\n",
            "Epoch 21/100\n",
            "484/484 [==============================] - 12s 25ms/step - loss: 4.5662 - accuracy: 0.1440\n",
            "Epoch 22/100\n",
            "484/484 [==============================] - 12s 25ms/step - loss: 4.4643 - accuracy: 0.1532\n",
            "Epoch 23/100\n",
            "484/484 [==============================] - 12s 25ms/step - loss: 4.3604 - accuracy: 0.1657\n",
            "Epoch 24/100\n",
            "484/484 [==============================] - 12s 25ms/step - loss: 4.2597 - accuracy: 0.1796\n",
            "Epoch 25/100\n",
            "484/484 [==============================] - 12s 26ms/step - loss: 4.1575 - accuracy: 0.1924\n",
            "Epoch 26/100\n",
            "484/484 [==============================] - 12s 26ms/step - loss: 4.0668 - accuracy: 0.2026\n",
            "Epoch 27/100\n",
            "484/484 [==============================] - 13s 26ms/step - loss: 3.9560 - accuracy: 0.2241\n",
            "Epoch 28/100\n",
            "484/484 [==============================] - 12s 25ms/step - loss: 3.8659 - accuracy: 0.2363\n",
            "Epoch 29/100\n",
            "484/484 [==============================] - 12s 26ms/step - loss: 3.7681 - accuracy: 0.2502\n",
            "Epoch 30/100\n",
            "484/484 [==============================] - 13s 26ms/step - loss: 3.6762 - accuracy: 0.2708\n",
            "Epoch 31/100\n",
            "484/484 [==============================] - 13s 26ms/step - loss: 3.5862 - accuracy: 0.2857\n",
            "Epoch 32/100\n",
            "484/484 [==============================] - 13s 26ms/step - loss: 3.4981 - accuracy: 0.3064\n",
            "Epoch 33/100\n",
            "484/484 [==============================] - 13s 26ms/step - loss: 3.4112 - accuracy: 0.3223\n",
            "Epoch 34/100\n",
            "484/484 [==============================] - 13s 26ms/step - loss: 3.3290 - accuracy: 0.3388\n",
            "Epoch 35/100\n",
            "484/484 [==============================] - 13s 26ms/step - loss: 3.2440 - accuracy: 0.3641\n",
            "Epoch 36/100\n",
            "484/484 [==============================] - 13s 26ms/step - loss: 3.1672 - accuracy: 0.3786\n",
            "Epoch 37/100\n",
            "484/484 [==============================] - 13s 26ms/step - loss: 3.0937 - accuracy: 0.3943\n",
            "Epoch 38/100\n",
            "484/484 [==============================] - 13s 26ms/step - loss: 3.0157 - accuracy: 0.4097\n",
            "Epoch 39/100\n",
            "484/484 [==============================] - 13s 26ms/step - loss: 2.9441 - accuracy: 0.4258\n",
            "Epoch 40/100\n",
            "484/484 [==============================] - 13s 26ms/step - loss: 2.8855 - accuracy: 0.4382\n",
            "Epoch 41/100\n",
            "484/484 [==============================] - 13s 26ms/step - loss: 2.8074 - accuracy: 0.4596\n",
            "Epoch 42/100\n",
            "484/484 [==============================] - 13s 26ms/step - loss: 2.7447 - accuracy: 0.4717\n",
            "Epoch 43/100\n",
            "484/484 [==============================] - 13s 26ms/step - loss: 2.6864 - accuracy: 0.4874\n",
            "Epoch 44/100\n",
            "484/484 [==============================] - 13s 26ms/step - loss: 2.6279 - accuracy: 0.4989\n",
            "Epoch 45/100\n",
            "484/484 [==============================] - 13s 26ms/step - loss: 2.5673 - accuracy: 0.5103\n",
            "Epoch 46/100\n",
            "484/484 [==============================] - 13s 26ms/step - loss: 2.5220 - accuracy: 0.5177\n",
            "Epoch 47/100\n",
            "484/484 [==============================] - 13s 26ms/step - loss: 2.4641 - accuracy: 0.5332\n",
            "Epoch 48/100\n",
            "484/484 [==============================] - 13s 26ms/step - loss: 2.4097 - accuracy: 0.5469\n",
            "Epoch 49/100\n",
            "484/484 [==============================] - 13s 26ms/step - loss: 2.3445 - accuracy: 0.5628\n",
            "Epoch 50/100\n",
            "484/484 [==============================] - 13s 26ms/step - loss: 2.2983 - accuracy: 0.5696\n",
            "Epoch 51/100\n",
            "484/484 [==============================] - 13s 27ms/step - loss: 2.2616 - accuracy: 0.5807\n",
            "Epoch 52/100\n",
            "484/484 [==============================] - 13s 26ms/step - loss: 2.2199 - accuracy: 0.5878\n",
            "Epoch 53/100\n",
            "484/484 [==============================] - 13s 26ms/step - loss: 2.1819 - accuracy: 0.5968\n",
            "Epoch 54/100\n",
            "484/484 [==============================] - 13s 26ms/step - loss: 2.1343 - accuracy: 0.6077\n",
            "Epoch 55/100\n",
            "484/484 [==============================] - 13s 26ms/step - loss: 2.0868 - accuracy: 0.6200\n",
            "Epoch 56/100\n",
            "484/484 [==============================] - 13s 26ms/step - loss: 2.0405 - accuracy: 0.6272\n",
            "Epoch 57/100\n",
            "484/484 [==============================] - 13s 26ms/step - loss: 2.0145 - accuracy: 0.6326\n",
            "Epoch 58/100\n",
            "484/484 [==============================] - 13s 26ms/step - loss: 1.9810 - accuracy: 0.6394\n",
            "Epoch 59/100\n",
            "484/484 [==============================] - 13s 26ms/step - loss: 1.9426 - accuracy: 0.6469\n",
            "Epoch 60/100\n",
            "484/484 [==============================] - 13s 26ms/step - loss: 1.9056 - accuracy: 0.6575\n",
            "Epoch 61/100\n",
            "484/484 [==============================] - 13s 26ms/step - loss: 1.8630 - accuracy: 0.6672\n",
            "Epoch 62/100\n",
            "484/484 [==============================] - 13s 26ms/step - loss: 1.8449 - accuracy: 0.6725\n",
            "Epoch 63/100\n",
            "484/484 [==============================] - 13s 26ms/step - loss: 1.8126 - accuracy: 0.6759\n",
            "Epoch 64/100\n",
            "484/484 [==============================] - 13s 26ms/step - loss: 1.7776 - accuracy: 0.6828\n",
            "Epoch 65/100\n",
            "484/484 [==============================] - 13s 26ms/step - loss: 1.7418 - accuracy: 0.6921\n",
            "Epoch 66/100\n",
            "484/484 [==============================] - 13s 26ms/step - loss: 1.7216 - accuracy: 0.6932\n",
            "Epoch 67/100\n",
            "484/484 [==============================] - 13s 26ms/step - loss: 1.6915 - accuracy: 0.7012\n",
            "Epoch 68/100\n",
            "484/484 [==============================] - 12s 26ms/step - loss: 1.6730 - accuracy: 0.7039\n",
            "Epoch 69/100\n",
            "484/484 [==============================] - 12s 26ms/step - loss: 1.6358 - accuracy: 0.7103\n",
            "Epoch 70/100\n",
            "484/484 [==============================] - 13s 26ms/step - loss: 1.6335 - accuracy: 0.7094\n",
            "Epoch 71/100\n",
            "484/484 [==============================] - 12s 26ms/step - loss: 1.5897 - accuracy: 0.7227\n",
            "Epoch 72/100\n",
            "484/484 [==============================] - 13s 26ms/step - loss: 1.5731 - accuracy: 0.7284\n",
            "Epoch 73/100\n",
            "484/484 [==============================] - 13s 26ms/step - loss: 1.5615 - accuracy: 0.7255\n",
            "Epoch 74/100\n",
            "484/484 [==============================] - 12s 26ms/step - loss: 1.5282 - accuracy: 0.7330\n",
            "Epoch 75/100\n",
            "484/484 [==============================] - 13s 26ms/step - loss: 1.5042 - accuracy: 0.7422\n",
            "Epoch 76/100\n",
            "484/484 [==============================] - 13s 26ms/step - loss: 1.4950 - accuracy: 0.7428\n",
            "Epoch 77/100\n",
            "484/484 [==============================] - 12s 26ms/step - loss: 1.4607 - accuracy: 0.7473\n",
            "Epoch 78/100\n",
            "484/484 [==============================] - 12s 26ms/step - loss: 1.4376 - accuracy: 0.7531\n",
            "Epoch 80/100\n",
            "484/484 [==============================] - 12s 25ms/step - loss: 1.4234 - accuracy: 0.7536\n",
            "Epoch 81/100\n",
            "484/484 [==============================] - 12s 25ms/step - loss: 1.4084 - accuracy: 0.7575\n",
            "Epoch 82/100\n",
            "484/484 [==============================] - 12s 25ms/step - loss: 1.3699 - accuracy: 0.7655\n",
            "Epoch 83/100\n",
            "484/484 [==============================] - 12s 25ms/step - loss: 1.3589 - accuracy: 0.7647\n",
            "Epoch 84/100\n",
            "484/484 [==============================] - 12s 25ms/step - loss: 1.3550 - accuracy: 0.7663\n",
            "Epoch 85/100\n",
            "484/484 [==============================] - 12s 25ms/step - loss: 1.3433 - accuracy: 0.7672\n",
            "Epoch 86/100\n",
            "484/484 [==============================] - 12s 25ms/step - loss: 1.3224 - accuracy: 0.7720\n",
            "Epoch 87/100\n",
            "484/484 [==============================] - 12s 25ms/step - loss: 1.3061 - accuracy: 0.7774\n",
            "Epoch 88/100\n",
            "484/484 [==============================] - 12s 25ms/step - loss: 1.2909 - accuracy: 0.7767\n",
            "Epoch 89/100\n",
            "484/484 [==============================] - 12s 25ms/step - loss: 1.2846 - accuracy: 0.7792\n",
            "Epoch 90/100\n",
            "484/484 [==============================] - 12s 25ms/step - loss: 1.2833 - accuracy: 0.7769\n",
            "Epoch 91/100\n",
            "484/484 [==============================] - 12s 25ms/step - loss: 1.2572 - accuracy: 0.7819\n",
            "Epoch 92/100\n",
            "484/484 [==============================] - 12s 25ms/step - loss: 1.2353 - accuracy: 0.7860\n",
            "Epoch 93/100\n",
            "484/484 [==============================] - 12s 25ms/step - loss: 1.2218 - accuracy: 0.7893\n",
            "Epoch 94/100\n",
            "484/484 [==============================] - 12s 25ms/step - loss: 1.2054 - accuracy: 0.7939\n",
            "Epoch 95/100\n",
            "484/484 [==============================] - 12s 25ms/step - loss: 1.1945 - accuracy: 0.7938\n",
            "Epoch 96/100\n",
            "484/484 [==============================] - 12s 26ms/step - loss: 1.1959 - accuracy: 0.7932\n",
            "Epoch 97/100\n",
            "484/484 [==============================] - 12s 26ms/step - loss: 1.1818 - accuracy: 0.7950\n",
            "Epoch 98/100\n",
            "484/484 [==============================] - 12s 25ms/step - loss: 1.1837 - accuracy: 0.7930\n",
            "Epoch 99/100\n",
            "484/484 [==============================] - 12s 26ms/step - loss: 1.1792 - accuracy: 0.7928\n",
            "Epoch 100/100\n",
            "484/484 [==============================] - 12s 25ms/step - loss: 1.1682 - accuracy: 0.7946\n"
          ],
          "name": "stdout"
        }
      ]
    },
    {
      "cell_type": "code",
      "metadata": {
        "colab_type": "code",
        "id": "1fXTEO3GJ282",
        "colab": {
          "base_uri": "https://localhost:8080/",
          "height": 545
        },
        "outputId": "e16816cf-7d67-4383-a08b-fc1f094dcdbe"
      },
      "source": [
        "import matplotlib.pyplot as plt\n",
        "acc = history.history['accuracy']\n",
        "loss = history.history['loss']\n",
        "\n",
        "epochs = range(len(acc))\n",
        "\n",
        "plt.plot(epochs, acc, 'b', label='Training accuracy')\n",
        "plt.title('Training accuracy')\n",
        "\n",
        "plt.figure()\n",
        "\n",
        "plt.plot(epochs, loss, 'b', label='Training Loss')\n",
        "plt.title('Training loss')\n",
        "plt.legend()\n",
        "\n",
        "plt.show()"
      ],
      "execution_count": 20,
      "outputs": [
        {
          "output_type": "display_data",
          "data": {
            "image/png": "[encoded data removed]",
            "text/plain": [
              "<Figure size 432x288 with 1 Axes>"
            ]
          },
          "metadata": {
            "tags": [],
            "needs_background": "light"
          }
        },
        {
          "output_type": "display_data",
          "data": {
            "image/png": "[encoded data removed]",
            "text/plain": [
              "<Figure size 432x288 with 1 Axes>"
            ]
          },
          "metadata": {
            "tags": [],
            "needs_background": "light"
          }
        }
      ]
    },
    {
      "cell_type": "code",
      "metadata": {
        "colab_type": "code",
        "id": "6Vc6PHgxa6Hm",
        "colab": {
          "base_uri": "https://localhost:8080/",
          "height": 105
        },
        "outputId": "b2e6dd42-f991-4826-ab44-2996338a59bf"
      },
      "source": [
        "seed_text = \"Help me Obi Wan Kenobi, you're my only hope\"\n",
        "next_words = 100\n",
        "  \n",
        "for _ in range(next_words):\n",
        "\ttoken_list = tokenizer.texts_to_sequences([seed_text])[0]\n",
        "\ttoken_list = pad_sequences([token_list], maxlen=max_sequence_len-1, padding='pre')\n",
        "\tpredicted = model.predict_classes(token_list, verbose=0)\n",
        "\toutput_word = \"\"\n",
        "\tfor word, index in tokenizer.word_index.items():\n",
        "\t\tif index == predicted:\n",
        "\t\t\toutput_word = word\n",
        "\t\t\tbreak\n",
        "\tseed_text += \" \" + output_word\n",
        "print(seed_text)"
      ],
      "execution_count": 21,
      "outputs": [
        {
          "output_type": "stream",
          "text": [
            "WARNING:tensorflow:From <ipython-input-21-622d307fa19a>:7: Sequential.predict_classes (from tensorflow.python.keras.engine.sequential) is deprecated and will be removed after 2021-01-01.\n",
            "Instructions for updating:\n",
            "Please use instead:* `np.argmax(model.predict(x), axis=-1)`,   if your model does multi-class classification   (e.g. if it uses a `softmax` last-layer activation).* `(model.predict(x) > 0.5).astype(\"int32\")`,   if your model does binary classification   (e.g. if it uses a `sigmoid` last-layer activation).\n",
            "Help me Obi Wan Kenobi, you're my only hope his cheek in rest end groan cured remain buried way way way cross twain strife groan still well live face old deeds of every part free still one hate was thee o'er foes hate bearing true pen kill'd date tongue quite tend tend hell one shows thee doth writ after it most frame end survey survey held blot the gay point back back up desired give heaven hast it not for thee left me fear in thine art old love have he still laws weeds breast doth be die single catch true true part old old friend have thee see\n"
          ],
          "name": "stdout"
        }
      ]
    }
  ]
}